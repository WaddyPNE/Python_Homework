{
 "cells": [
  {
   "cell_type": "markdown",
   "metadata": {},
   "source": [
    "To complete the homework simply fill in your answers in this jupyter notebook!\n",
    "\n",
    "Remember that there are many ways in which markup cells can be used and you can add useful things such as references and images to better explain your answers.\n",
    "\n",
    "It is perfectly fine if you copy your answer from somewhere else in the internet as long as you understand the code you copied and cite the source. However, refrain from asking help for your colleagues (unless you're really struggling) as the ability to find information online is crucial for any tech role you might want to have in the future.\n",
    "\n",
    "<h1> Question 1: Multiple prints</h1>\n",
    "Create 3 different variables of different types and print their values using a single print statement."
   ]
  },
  {
   "cell_type": "code",
   "execution_count": 5,
   "metadata": {},
   "outputs": [
    {
     "name": "stdout",
     "output_type": "stream",
     "text": [
      "My name is Mike 40 29.83\n"
     ]
    }
   ],
   "source": [
    "var_str = \"My name is Mike\"\n",
    "var_int = 40\n",
    "var_float = 29.83\n",
    "\n",
    "print(var_str, var_int, var_float)"
   ]
  },
  {
   "cell_type": "markdown",
   "metadata": {},
   "source": [
    "<h1> Question 2: Data structures</h1>\n",
    "Create two variables containing each a nested list and a nested dictionary and demonstrate how to access specific items of it."
   ]
  },
  {
   "cell_type": "code",
   "execution_count": 9,
   "metadata": {},
   "outputs": [
    {
     "name": "stdout",
     "output_type": "stream",
     "text": [
      "Dictionary 1:\n",
      "steak\n",
      "cheese\n",
      "List 1:\n",
      "5\n",
      "3\n"
     ]
    }
   ],
   "source": [
    "# nested list\n",
    "list_1 = [[1, 2, 3], [4, 5, 6], [7, 8, 9]]\n",
    "\n",
    "# nested dictionary\n",
    "dict_1 = {\n",
    "    'recipe_1': {\n",
    "        'ingredient_1': 'potato',\n",
    "        'ingredient_2': 'steak'\n",
    "    },\n",
    "    'recipe_2': {\n",
    "        'ingredient_3': 'cheese',\n",
    "        'ingredient_4': 'leek'\n",
    "    }\n",
    "}\n",
    "\n",
    "value1 = list_1[1][1]  \n",
    "value2 = list_1[0][2]  \n",
    "\n",
    "\n",
    "item1 = dict_1['recipe_1']['ingredient_2']  \n",
    "item2 = dict_1['recipe_2']['ingredient_3']  \n",
    "\n",
    "# Print the results\n",
    "print(\"Dictionary 1:\")\n",
    "print(item1)  \n",
    "print(item2) \n",
    "\n",
    "print(\"List 1:\")\n",
    "print(value1)  \n",
    "print(value2)  "
   ]
  },
  {
   "cell_type": "markdown",
   "metadata": {},
   "source": [
    "Now consider the following list,"
   ]
  },
  {
   "cell_type": "code",
   "execution_count": 15,
   "metadata": {},
   "outputs": [
    {
     "name": "stdout",
     "output_type": "stream",
     "text": [
      "Numbers <5 from the list are 1\n",
      "Numbers <5 from the list are 2\n",
      "Numbers <5 from the list are 3\n",
      "Numbers <5 from the list are 4\n",
      "Numbers less than 5: [1, 2, 3, 4]\n",
      "Even numbers from the list: [2, 4]\n",
      "Multiples of 3 from the list: [3]\n"
     ]
    }
   ],
   "source": [
    "a_list = [1, 2, 3, 4, 5, 6, 7, 8, 9]\n",
    "\n",
    "less_than_5 = [x for x in a_list if x < 5]\n",
    "\n",
    "even_numbers = [x for x in less_than_5 if x % 2 == 0]\n",
    "\n",
    "multiples_of_3 = [x for x in less_than_5 if x % 3 == 0]\n",
    "\n",
    "for item in less_than_5:\n",
    "    print(f\"Numbers <5 from the list are {item}\")\n",
    "\n",
    "print(\"Numbers less than 5:\", less_than_5)\n",
    "print(\"Even numbers from the list:\", even_numbers)\n",
    "print(\"Multiples of 3 from the list:\", multiples_of_3)\n"
   ]
  },
  {
   "cell_type": "markdown",
   "metadata": {},
   "source": [
    "1 - slice this list (by index) to contain only the numbers smaller than 5; <br>\n",
    "2 - make a loop to create a new list containing only the EVEN numbers of this list (bonus point if you use a list comprehension!!);<br>\n",
    "3 - make a loop to create a new list containing only the numbers that are multiples of 3;<br>\n",
    "Bonus - make a loop that will print every item on the list inside a sentence using a f-string."
   ]
  },
  {
   "cell_type": "markdown",
   "metadata": {},
   "source": [
    "<h1>Question 3: Creating functions</h1>\n",
    "\n",
    "Create a function that takes a list of numbers and convert them into strings. (bonus point if you use a list comprehension!!)"
   ]
  },
  {
   "cell_type": "code",
   "execution_count": 27,
   "metadata": {},
   "outputs": [
    {
     "name": "stdout",
     "output_type": "stream",
     "text": [
      "['1', '2', '3', '4', '5', '6', '7', '8', '9']\n"
     ]
    }
   ],
   "source": [
    "def convert_numbers_to_strings(number_list):\n",
    "\n",
    "    string_list = [str(x) for x in number_list]\n",
    "    return string_list\n",
    "\n",
    "\n",
    "numbers = [1, 2, 3, 4, 5, 6, 7, 8, 9]\n",
    "string_numbers = convert_numbers_to_strings(numbers)\n",
    "print(string_numbers)"
   ]
  },
  {
   "cell_type": "code",
   "execution_count": 17,
   "metadata": {},
   "outputs": [
    {
     "data": {
      "text/plain": [
       "'1'"
      ]
     },
     "execution_count": 17,
     "metadata": {},
     "output_type": "execute_result"
    }
   ],
   "source": [
    "variable = 1\n",
    "str(variable)"
   ]
  },
  {
   "cell_type": "code",
   "execution_count": 18,
   "metadata": {},
   "outputs": [],
   "source": [
    "yet_another_list = []"
   ]
  },
  {
   "cell_type": "code",
   "execution_count": 19,
   "metadata": {},
   "outputs": [
    {
     "data": {
      "text/plain": [
       "[]"
      ]
     },
     "execution_count": 19,
     "metadata": {},
     "output_type": "execute_result"
    }
   ],
   "source": [
    "yet_another_list"
   ]
  },
  {
   "cell_type": "code",
   "execution_count": 20,
   "metadata": {},
   "outputs": [],
   "source": [
    "yet_another_list.append('cat')"
   ]
  },
  {
   "cell_type": "code",
   "execution_count": 21,
   "metadata": {},
   "outputs": [
    {
     "data": {
      "text/plain": [
       "['cat']"
      ]
     },
     "execution_count": 21,
     "metadata": {},
     "output_type": "execute_result"
    }
   ],
   "source": [
    "yet_another_list"
   ]
  },
  {
   "cell_type": "code",
   "execution_count": null,
   "metadata": {},
   "outputs": [],
   "source": []
  },
  {
   "cell_type": "code",
   "execution_count": 22,
   "metadata": {},
   "outputs": [],
   "source": [
    "def numberToString(the_list):\n",
    "    another_list = []\n",
    "    \n",
    "    for item in the_list:    \n",
    "        converted_item = str(item)\n",
    "        another_list.append(converted_item)\n",
    "        \n",
    "    return(another_list)"
   ]
  },
  {
   "cell_type": "code",
   "execution_count": null,
   "metadata": {},
   "outputs": [],
   "source": []
  },
  {
   "cell_type": "code",
   "execution_count": 28,
   "metadata": {},
   "outputs": [
    {
     "data": {
      "text/plain": [
       "['1', '2', '3', '4', '5', '6', '7', '8', '9']"
      ]
     },
     "execution_count": 28,
     "metadata": {},
     "output_type": "execute_result"
    }
   ],
   "source": [
    "my_list = [1,2,3,4,5,6,7,8,9]\n",
    "\n",
    "numberToString(the_list=my_list)"
   ]
  },
  {
   "cell_type": "code",
   "execution_count": 29,
   "metadata": {},
   "outputs": [
    {
     "data": {
      "text/plain": [
       "['1', '2', '3', '4', '5', '6', '7', '8', '9']"
      ]
     },
     "execution_count": 29,
     "metadata": {},
     "output_type": "execute_result"
    }
   ],
   "source": [
    "new_list = [str(number) for number in my_list]\n",
    "new_list"
   ]
  },
  {
   "cell_type": "code",
   "execution_count": 30,
   "metadata": {},
   "outputs": [
    {
     "data": {
      "text/plain": [
       "['0', '1', '2', '3', '4', '5', '6', '7', '8', '9']"
      ]
     },
     "execution_count": 30,
     "metadata": {},
     "output_type": "execute_result"
    }
   ],
   "source": [
    "new_list = [str(number) for number in range(10)]\n",
    "new_list"
   ]
  },
  {
   "cell_type": "markdown",
   "metadata": {},
   "source": [
    "Create a small calculator. The function should pick two numbers and perform one of four mathematical operations with it (sum/subtraction, division, multiplication, exponents). The desired operation should be an option (hint: what IF the user wants to do a sum?)\n",
    "\n",
    "Bonus: Make a function that can pick ANY number of numbers."
   ]
  },
  {
   "cell_type": "code",
   "execution_count": 33,
   "metadata": {},
   "outputs": [
    {
     "name": "stdout",
     "output_type": "stream",
     "text": [
      "This is my Calculator!\n",
      "Select an operation:\n",
      "1. Addition (+)\n",
      "2. Subtraction (-)\n",
      "3. Division (/)\n",
      "4. Multiplication (*)\n",
      "5. Exponentiation (^)\n",
      "The result of 100.0 * 2.0 is 200.0\n"
     ]
    }
   ],
   "source": [
    "def calculator():\n",
    "    print(\"This is my Calculator!\")\n",
    "    num1 = float(input(\"Entre the first number: \"))\n",
    "    num2 = float(input(\"Enter the second number: \"))\n",
    "\n",
    "    print(\"Select an operation:\")\n",
    "    print(\"1. Addition (+)\")\n",
    "    print(\"2. Subtraction (-)\")\n",
    "    print(\"3. Division (/)\")\n",
    "    print(\"4. Multiplication (*)\")\n",
    "    print(\"5. Exponentiation (^)\")\n",
    "\n",
    "    choice = input(\"Enter the operation (1/2/3/4/5): \")\n",
    "\n",
    "    if choice == '1':\n",
    "        result = num1 + num2\n",
    "        print(f\"The result of {num1} + {num2} is {result}\")\n",
    "    elif choice == '2':\n",
    "        result = num1 - num2\n",
    "        print(f\"The result of {num1} - {num2} is {result}\")\n",
    "    elif choice == '3':\n",
    "        if num2 == 0:\n",
    "            print(\"Error: Division by zero is not allowed.\")\n",
    "        else:\n",
    "            result = num1 / num2\n",
    "            print(f\"The result of {num1} / {num2} is {result}\")\n",
    "    elif choice == '4':\n",
    "        result = num1 * num2\n",
    "        print(f\"The result of {num1} * {num2} is {result}\")\n",
    "    elif choice == '5':\n",
    "        result = num1 ** num2\n",
    "        print(f\"The result of {num1} ^ {num2} is {result}\")\n",
    "    else:\n",
    "        print(\"Invalid choice. Please select a valid operation (1/2/3/4/5).\")\n",
    "\n",
    "# Call the calculator function to use it\n",
    "calculator()"
   ]
  },
  {
   "cell_type": "markdown",
   "metadata": {},
   "source": [
    "Create a function that check if a number is within a list of numbers."
   ]
  },
  {
   "cell_type": "code",
   "execution_count": 37,
   "metadata": {},
   "outputs": [
    {
     "name": "stdout",
     "output_type": "stream",
     "text": [
      "4 is in the list.\n",
      "9 is not in the list.\n"
     ]
    }
   ],
   "source": [
    "def number_list(number, num_list):\n",
    "    return number in num_list\n",
    "\n",
    "numbers = [1, 2, 3, 4, 5, 6, 7, 8]\n",
    "\n",
    "\n",
    "result = number_list(4, numbers)\n",
    "if result:\n",
    "    print(\"4 is in the list.\")\n",
    "else:\n",
    "    print(\"4 is not in the list.\")\n",
    "\n",
    "\n",
    "result = number_list(9, numbers)\n",
    "if result:\n",
    "    print(\"9 is in the list.\")\n",
    "else:\n",
    "    print(\"9 is not in the list.\")"
   ]
  },
  {
   "cell_type": "markdown",
   "metadata": {},
   "source": [
    "Bonus: similar to the item above, create a function that checks if a string contains a given substring, e.g. 'I have a cat' contains the string sequence 'cat' or 'ave'."
   ]
  },
  {
   "cell_type": "code",
   "execution_count": 42,
   "metadata": {},
   "outputs": [
    {
     "name": "stdout",
     "output_type": "stream",
     "text": [
      "'ding' is a substring in the main string.\n",
      "'zon' is not a substring in the main string.\n"
     ]
    }
   ],
   "source": [
    "def text_string(substring, main_string):\n",
    "    return substring in main_string\n",
    "\n",
    "\n",
    "main_string = \"My name is Mike Waddington\"\n",
    "\n",
    "\n",
    "result = text_string('ding', main_string)\n",
    "if result:\n",
    "    print(\"'ding' is a substring in the main string.\")\n",
    "else:\n",
    "    print(\"'ding' is not a substring in the main string.\")\n",
    "\n",
    "\n",
    "result = text_string('not', main_string)\n",
    "if result:\n",
    "    print(\"'not' is a substring in the main string.\")\n",
    "else:\n",
    "    print(\"'zon' is not a substring in the main string.\")"
   ]
  },
  {
   "cell_type": "markdown",
   "metadata": {},
   "source": [
    "Bonus: create a function that given the initial speed of a projectile that is thrown at 90 degrees will calculate how much time the projectile will take to get back to the initial altitude. (yes you're expected to disregard air resistence)"
   ]
  },
  {
   "cell_type": "code",
   "execution_count": 43,
   "metadata": {},
   "outputs": [
    {
     "name": "stdout",
     "output_type": "stream",
     "text": [
      "Time taken to return to initial altitude: -4.08 seconds\n"
     ]
    }
   ],
   "source": [
    "def time_to_return_to_initial_altitude(initial_velocity):\n",
    "\n",
    "    gravity = -9.81  # m/s^2\n",
    "\n",
    "    time = (2 * initial_velocity) / gravity\n",
    "\n",
    "    return time\n",
    "\n",
    "\n",
    "initial_velocity = 20.0  \n",
    "\n",
    "time_taken = time_to_return_to_initial_altitude(initial_velocity)\n",
    "print(f\"Time taken to return to initial altitude: {time_taken:.2f} seconds\")"
   ]
  },
  {
   "cell_type": "markdown",
   "metadata": {},
   "source": [
    "<h1>solve these questions...or ELSE</h1>\n",
    "\n",
    "Why the nested if statement below doesn't only produce the first print? Can you modify it so it produces the desired output?"
   ]
  },
  {
   "cell_type": "code",
   "execution_count": 45,
   "metadata": {},
   "outputs": [
    {
     "name": "stdout",
     "output_type": "stream",
     "text": [
      "Yeeeey!\n"
     ]
    }
   ],
   "source": [
    "food = 'Pizza'\n",
    "drinks = 'Beer'\n",
    "\n",
    "if food == 'Pizza' and drinks == 'Beer':\n",
    "    print('Yeeeey!')\n",
    "elif food == 'Pizza' and drinks != 'Beer':\n",
    "    print('Yey.')\n",
    "elif food != 'Pizza' and drinks == 'Beer':\n",
    "    print('Yey!')\n",
    "else:\n",
    "    print('.....???')"
   ]
  },
  {
   "cell_type": "markdown",
   "metadata": {},
   "source": [
    "<h1> Debugging </h1>\n",
    "None of the blocks of code below work. Your task is to make them work (if possible!) and add markup cells (or comments) explaining why they don't work."
   ]
  },
  {
   "cell_type": "markdown",
   "metadata": {},
   "source": [
    "print(\"Is this working?\")"
   ]
  },
  {
   "cell_type": "code",
   "execution_count": 46,
   "metadata": {},
   "outputs": [
    {
     "name": "stdout",
     "output_type": "stream",
     "text": [
      "does this work?\n"
     ]
    }
   ],
   "source": [
    "print(\"does this work?\")"
   ]
  },
  {
   "cell_type": "code",
   "execution_count": 48,
   "metadata": {},
   "outputs": [
    {
     "name": "stdout",
     "output_type": "stream",
     "text": [
      "about now?\n"
     ]
    }
   ],
   "source": [
    "print(\"about now?\")"
   ]
  },
  {
   "cell_type": "code",
   "execution_count": 49,
   "metadata": {},
   "outputs": [
    {
     "name": "stdout",
     "output_type": "stream",
     "text": [
      "Today on a scale from 1 to 10 I am feeling... 10\n"
     ]
    }
   ],
   "source": [
    "text_variable = \"Today on a scale from 1 to 10 I am feeling...\"\n",
    "my_mood = 10\n",
    "print(text_variable, my_mood)"
   ]
  },
  {
   "cell_type": "code",
   "execution_count": 51,
   "metadata": {},
   "outputs": [
    {
     "name": "stdout",
     "output_type": "stream",
     "text": [
      "Today on a scale from 1 to 10 I am feeling...10\n"
     ]
    }
   ],
   "source": [
    "text_variable = \"Today on a scale from 1 to 10 I am feeling...\"\n",
    "my_mood = 10\n",
    "print(text_variable + str(my_mood)) #Yep there are ways to make it work with a + operator too!"
   ]
  },
  {
   "cell_type": "code",
   "execution_count": 52,
   "metadata": {},
   "outputs": [],
   "source": [
    "a_dictionary = {'item1': 'Value 1',\n",
    "                'item2': 'value 2',}"
   ]
  },
  {
   "cell_type": "code",
   "execution_count": 53,
   "metadata": {},
   "outputs": [],
   "source": [
    "result = 1 == 1"
   ]
  },
  {
   "cell_type": "code",
   "execution_count": 55,
   "metadata": {},
   "outputs": [
    {
     "name": "stdout",
     "output_type": "stream",
     "text": [
      "Clap your hands\n"
     ]
    }
   ],
   "source": [
    "# Why isn't the outcome 'Clap your hands?'\n",
    "mood = 'Happy'\n",
    "if mood == 'Happy':\n",
    "    print('Clap your hands')\n",
    "else:\n",
    "    print('...do I look like I have this one figured out?')"
   ]
  },
  {
   "cell_type": "code",
   "execution_count": 57,
   "metadata": {},
   "outputs": [
    {
     "name": "stdout",
     "output_type": "stream",
     "text": [
      "a word another word\n"
     ]
    }
   ],
   "source": [
    "def printerfunction(x,y):\n",
    "    print(x,y)\n",
    "\n",
    "printerfunction(\"a word\", \"another word\")"
   ]
  },
  {
   "cell_type": "code",
   "execution_count": 59,
   "metadata": {},
   "outputs": [
    {
     "name": "stdout",
     "output_type": "stream",
     "text": [
      "Clap your hands\n"
     ]
    }
   ],
   "source": [
    "# bonus/annoying round, why is this crashing?\n",
    "mood = 'Happy'\n",
    "if mood == 'Happy':\n",
    "   print('Clap your hands')\n",
    "else:\n",
    "    print('...do I look like I have this one figured out?')"
   ]
  }
 ],
 "metadata": {
  "kernelspec": {
   "display_name": "Python 3 (ipykernel)",
   "language": "python",
   "name": "python3"
  },
  "language_info": {
   "codemirror_mode": {
    "name": "ipython",
    "version": 3
   },
   "file_extension": ".py",
   "mimetype": "text/x-python",
   "name": "python",
   "nbconvert_exporter": "python",
   "pygments_lexer": "ipython3",
   "version": "3.10.11"
  }
 },
 "nbformat": 4,
 "nbformat_minor": 4
}
